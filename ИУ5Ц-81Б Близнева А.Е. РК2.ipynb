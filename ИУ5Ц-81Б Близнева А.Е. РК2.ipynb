{
 "cells": [
  {
   "cell_type": "markdown",
   "id": "a74d3013",
   "metadata": {},
   "source": [
    "# Рубежный контроль №2"
   ]
  },
  {
   "cell_type": "markdown",
   "id": "dbfd5b49",
   "metadata": {},
   "source": [
    "## Близнева А.Е. группа ИУ5Ц-81Б\n",
    "## Вариант 26"
   ]
  },
  {
   "cell_type": "markdown",
   "id": "5088e0a3",
   "metadata": {},
   "source": [
    "### Задание:"
   ]
  },
  {
   "cell_type": "markdown",
   "id": "966dee76",
   "metadata": {},
   "source": [
    "Для заданного набора данных (по Вашему варианту) постройте модели классификации или регрессии (в зависимости от конкретной задачи, рассматриваемой в наборе данных). Для построения моделей используйте методы 1 и 2 (по варианту для Вашей группы). Оцените качество моделей на основе подходящих метрик качества (не менее двух метрик). Какие метрики качества Вы использовали и почему? Какие выводы Вы можете сделать о качестве построенных моделей? Для построения моделей необходимо выполнить требуемую предобработку данных: заполнение пропусков, кодирование категориальных признаков, и т.д."
   ]
  },
  {
   "cell_type": "markdown",
   "id": "c99aec86",
   "metadata": {},
   "source": [
    "### О наборе данных:\n",
    "\n",
    "Классификация типов звезд  \n",
    "Для сравнения всех моделей ML  \n",
    "Может использоваться для прогнозирования  \n",
    "\n",
    "Температура -- K  \n",
    "L -- L/Lo  \n",
    "R -- R/Ro  \n",
    "AM -- Mv  \n",
    "Color -- Общий цвет спектра  \n",
    "Spectral_Class -- O,B,A,F,G,K,M / SMASS - https:// en.wikipedia.org/wiki/Asteroid_spectral_types  \n",
    "\n",
    "Тип — Красный карлик, Коричневый карлик, Белый карлик, Основная последовательность, Супергиганты, Гипергиганты  \n",
    "\n",
    "\n",
    "ЦЕЛЬ:  \n",
    "Тип  \n",
    "\n",
    "от 0 до 5  \n",
    "\n",
    "Красный карлик - 0  \n",
    "Коричневый карлик - 1  \n",
    "Белый карлик - 2  \n",
    "Основная последовательность - 3  \n",
    "Супер Гиганты - 4  \n",
    "Гипергиганты - 5  \n",
    "МАТЕМАТИКА:  \n",
    "\n",
    "Lo = 3,828 x 10 ^ 26 Вт  \n",
    "(средняя яркость солнца)  \n",
    "Ro = 6,9551 x 10 ^ 8 м  \n",
    "(средний радиус солнца)  "
   ]
  },
  {
   "cell_type": "markdown",
   "id": "ecf87c78",
   "metadata": {},
   "source": [
    "### Импорт библиотек"
   ]
  },
  {
   "cell_type": "code",
   "execution_count": 1,
   "id": "4ea7a690",
   "metadata": {},
   "outputs": [],
   "source": [
    "import numpy as np\n",
    "import pandas as pd\n",
    "import seaborn as sns\n",
    "import matplotlib\n",
    "import matplotlib_inline\n",
    "import matplotlib.pyplot as plt\n",
    "from IPython.display import Image\n",
    "from io import StringIO\n",
    "import graphviz \n",
    "import pydotplus\n",
    "from sklearn.model_selection import train_test_split\n",
    "from sklearn.linear_model import LinearRegression\n",
    "from sklearn.metrics import mean_absolute_error, mean_squared_error, median_absolute_error, r2_score \n",
    "from sklearn.ensemble import RandomForestRegressor\n",
    "%matplotlib inline \n",
    "%matplotlib inline \n",
    "sns.set(style=\"ticks\")\n",
    "from IPython.display import set_matplotlib_formats\n",
    "matplotlib_inline.backend_inline.set_matplotlib_formats(\"retina\")"
   ]
  },
  {
   "cell_type": "markdown",
   "id": "f23e4127",
   "metadata": {},
   "source": [
    "## Загрузка данных"
   ]
  },
  {
   "cell_type": "code",
   "execution_count": 2,
   "id": "d49be0ff",
   "metadata": {},
   "outputs": [],
   "source": [
    "data = pd.read_csv('Stars.csv', sep=\",\")"
   ]
  },
  {
   "cell_type": "markdown",
   "id": "26f83681",
   "metadata": {},
   "source": [
    "## Основные характеристики датасета"
   ]
  },
  {
   "cell_type": "code",
   "execution_count": 3,
   "id": "e1871697",
   "metadata": {},
   "outputs": [
    {
     "data": {
      "text/html": [
       "<div>\n",
       "<style scoped>\n",
       "    .dataframe tbody tr th:only-of-type {\n",
       "        vertical-align: middle;\n",
       "    }\n",
       "\n",
       "    .dataframe tbody tr th {\n",
       "        vertical-align: top;\n",
       "    }\n",
       "\n",
       "    .dataframe thead th {\n",
       "        text-align: right;\n",
       "    }\n",
       "</style>\n",
       "<table border=\"1\" class=\"dataframe\">\n",
       "  <thead>\n",
       "    <tr style=\"text-align: right;\">\n",
       "      <th></th>\n",
       "      <th>Temperature</th>\n",
       "      <th>L</th>\n",
       "      <th>R</th>\n",
       "      <th>A_M</th>\n",
       "      <th>Color</th>\n",
       "      <th>Spectral_Class</th>\n",
       "      <th>Type</th>\n",
       "    </tr>\n",
       "  </thead>\n",
       "  <tbody>\n",
       "    <tr>\n",
       "      <th>0</th>\n",
       "      <td>3068</td>\n",
       "      <td>0.002400</td>\n",
       "      <td>0.1700</td>\n",
       "      <td>16.12</td>\n",
       "      <td>Red</td>\n",
       "      <td>M</td>\n",
       "      <td>0</td>\n",
       "    </tr>\n",
       "    <tr>\n",
       "      <th>1</th>\n",
       "      <td>3042</td>\n",
       "      <td>0.000500</td>\n",
       "      <td>0.1542</td>\n",
       "      <td>16.60</td>\n",
       "      <td>Red</td>\n",
       "      <td>M</td>\n",
       "      <td>0</td>\n",
       "    </tr>\n",
       "    <tr>\n",
       "      <th>2</th>\n",
       "      <td>2600</td>\n",
       "      <td>0.000300</td>\n",
       "      <td>0.1020</td>\n",
       "      <td>18.70</td>\n",
       "      <td>Red</td>\n",
       "      <td>M</td>\n",
       "      <td>0</td>\n",
       "    </tr>\n",
       "    <tr>\n",
       "      <th>3</th>\n",
       "      <td>2800</td>\n",
       "      <td>0.000200</td>\n",
       "      <td>0.1600</td>\n",
       "      <td>16.65</td>\n",
       "      <td>Red</td>\n",
       "      <td>M</td>\n",
       "      <td>0</td>\n",
       "    </tr>\n",
       "    <tr>\n",
       "      <th>4</th>\n",
       "      <td>1939</td>\n",
       "      <td>0.000138</td>\n",
       "      <td>0.1030</td>\n",
       "      <td>20.06</td>\n",
       "      <td>Red</td>\n",
       "      <td>M</td>\n",
       "      <td>0</td>\n",
       "    </tr>\n",
       "  </tbody>\n",
       "</table>\n",
       "</div>"
      ],
      "text/plain": [
       "   Temperature         L       R    A_M Color Spectral_Class  Type\n",
       "0         3068  0.002400  0.1700  16.12   Red              M     0\n",
       "1         3042  0.000500  0.1542  16.60   Red              M     0\n",
       "2         2600  0.000300  0.1020  18.70   Red              M     0\n",
       "3         2800  0.000200  0.1600  16.65   Red              M     0\n",
       "4         1939  0.000138  0.1030  20.06   Red              M     0"
      ]
     },
     "execution_count": 3,
     "metadata": {},
     "output_type": "execute_result"
    }
   ],
   "source": [
    "data.head()"
   ]
  },
  {
   "cell_type": "code",
   "execution_count": 4,
   "id": "9af3ad83",
   "metadata": {},
   "outputs": [
    {
     "name": "stdout",
     "output_type": "stream",
     "text": [
      "Всего строк: 240\n",
      "Всего колонок: 7\n"
     ]
    }
   ],
   "source": [
    "# Выведем размер датасета - по итогу получилось:\n",
    "total_count = data.shape[0]\n",
    "print('Всего строк: {}'.format(total_count))\n",
    "total_count = data.shape[1]\n",
    "print('Всего колонок: {}'.format(total_count))"
   ]
  },
  {
   "cell_type": "code",
   "execution_count": 5,
   "id": "35bd4200",
   "metadata": {},
   "outputs": [
    {
     "data": {
      "text/plain": [
       "Temperature         int64\n",
       "L                 float64\n",
       "R                 float64\n",
       "A_M               float64\n",
       "Color              object\n",
       "Spectral_Class     object\n",
       "Type                int64\n",
       "dtype: object"
      ]
     },
     "execution_count": 5,
     "metadata": {},
     "output_type": "execute_result"
    }
   ],
   "source": [
    "# Выведем список колонок с их типами.\n",
    "data.dtypes"
   ]
  },
  {
   "cell_type": "code",
   "execution_count": 6,
   "id": "bc98f6ed",
   "metadata": {},
   "outputs": [
    {
     "name": "stdout",
     "output_type": "stream",
     "text": [
      "Temperature - 0\n",
      "L - 0\n",
      "R - 0\n",
      "A_M - 0\n",
      "Color - 0\n",
      "Spectral_Class - 0\n",
      "Type - 0\n"
     ]
    }
   ],
   "source": [
    "# Проверил количество пустых значений по колонкам.\n",
    "for col_empty in data.columns:\n",
    "    empty_count = data[data[col_empty].isnull()].shape[0]\n",
    "    print('{} - {}'.format(col_empty, empty_count))"
   ]
  },
  {
   "cell_type": "markdown",
   "id": "9dc7f5bf",
   "metadata": {},
   "source": [
    "Количество пустых значений означает, что все значения по этим колонкам заполнены."
   ]
  },
  {
   "cell_type": "markdown",
   "id": "7047a53e",
   "metadata": {},
   "source": [
    "### Кодирование категориальных признаков"
   ]
  },
  {
   "cell_type": "markdown",
   "id": "0370179f",
   "metadata": {},
   "source": [
    "Преобразуем цвета и спектральные классы в числовые значения (label encoding)"
   ]
  },
  {
   "cell_type": "code",
   "execution_count": 7,
   "id": "11a4e0cd",
   "metadata": {},
   "outputs": [],
   "source": [
    "from sklearn.preprocessing import LabelEncoder, OneHotEncoder"
   ]
  },
  {
   "cell_type": "code",
   "execution_count": 8,
   "id": "cff16ac6",
   "metadata": {},
   "outputs": [],
   "source": [
    "# Создаем новый фрейм данных, содержащий только столбцы типа object\n",
    "obj_data = data.select_dtypes(include=['object']).copy()"
   ]
  },
  {
   "cell_type": "code",
   "execution_count": 9,
   "id": "51711b9c",
   "metadata": {},
   "outputs": [
    {
     "data": {
      "text/html": [
       "<div>\n",
       "<style scoped>\n",
       "    .dataframe tbody tr th:only-of-type {\n",
       "        vertical-align: middle;\n",
       "    }\n",
       "\n",
       "    .dataframe tbody tr th {\n",
       "        vertical-align: top;\n",
       "    }\n",
       "\n",
       "    .dataframe thead th {\n",
       "        text-align: right;\n",
       "    }\n",
       "</style>\n",
       "<table border=\"1\" class=\"dataframe\">\n",
       "  <thead>\n",
       "    <tr style=\"text-align: right;\">\n",
       "      <th></th>\n",
       "      <th>Color</th>\n",
       "      <th>Spectral_Class</th>\n",
       "    </tr>\n",
       "  </thead>\n",
       "  <tbody>\n",
       "    <tr>\n",
       "      <th>0</th>\n",
       "      <td>Red</td>\n",
       "      <td>M</td>\n",
       "    </tr>\n",
       "    <tr>\n",
       "      <th>1</th>\n",
       "      <td>Red</td>\n",
       "      <td>M</td>\n",
       "    </tr>\n",
       "    <tr>\n",
       "      <th>2</th>\n",
       "      <td>Red</td>\n",
       "      <td>M</td>\n",
       "    </tr>\n",
       "    <tr>\n",
       "      <th>3</th>\n",
       "      <td>Red</td>\n",
       "      <td>M</td>\n",
       "    </tr>\n",
       "    <tr>\n",
       "      <th>4</th>\n",
       "      <td>Red</td>\n",
       "      <td>M</td>\n",
       "    </tr>\n",
       "  </tbody>\n",
       "</table>\n",
       "</div>"
      ],
      "text/plain": [
       "  Color Spectral_Class\n",
       "0   Red              M\n",
       "1   Red              M\n",
       "2   Red              M\n",
       "3   Red              M\n",
       "4   Red              M"
      ]
     },
     "execution_count": 9,
     "metadata": {},
     "output_type": "execute_result"
    }
   ],
   "source": [
    "obj_data.head()"
   ]
  },
  {
   "cell_type": "code",
   "execution_count": 10,
   "id": "76f872cc",
   "metadata": {},
   "outputs": [
    {
     "data": {
      "text/plain": [
       "M    111\n",
       "B     46\n",
       "O     40\n",
       "A     19\n",
       "F     17\n",
       "K      6\n",
       "G      1\n",
       "Name: Spectral_Class, dtype: int64"
      ]
     },
     "execution_count": 10,
     "metadata": {},
     "output_type": "execute_result"
    }
   ],
   "source": [
    "data[\"Spectral_Class\"].value_counts()"
   ]
  },
  {
   "cell_type": "code",
   "execution_count": 11,
   "id": "d6a5bbc0",
   "metadata": {},
   "outputs": [
    {
     "data": {
      "text/plain": [
       "Red                   112\n",
       "Blue                   56\n",
       "Blue-white             26\n",
       "Blue White             10\n",
       "yellow-white            8\n",
       "White                   7\n",
       "Blue white              4\n",
       "Yellowish White         3\n",
       "white                   3\n",
       "Whitish                 2\n",
       "Orange                  2\n",
       "yellowish               2\n",
       "Yellowish               1\n",
       "White-Yellow            1\n",
       "Pale yellow orange      1\n",
       "Orange-Red              1\n",
       "Blue-White              1\n",
       "Name: Color, dtype: int64"
      ]
     },
     "execution_count": 11,
     "metadata": {},
     "output_type": "execute_result"
    }
   ],
   "source": [
    "data[\"Color\"].value_counts()"
   ]
  },
  {
   "cell_type": "code",
   "execution_count": 12,
   "id": "8a5c954c",
   "metadata": {},
   "outputs": [],
   "source": [
    "data[\"Color\"] = data[\"Color\"].astype('category')\n",
    "data[\"Spectral_Class\"] = data[\"Spectral_Class\"].astype('category')"
   ]
  },
  {
   "cell_type": "code",
   "execution_count": 13,
   "id": "13be7a3c",
   "metadata": {},
   "outputs": [
    {
     "data": {
      "text/plain": [
       "Temperature          int64\n",
       "L                  float64\n",
       "R                  float64\n",
       "A_M                float64\n",
       "Color             category\n",
       "Spectral_Class    category\n",
       "Type                 int64\n",
       "dtype: object"
      ]
     },
     "execution_count": 13,
     "metadata": {},
     "output_type": "execute_result"
    }
   ],
   "source": [
    "data.dtypes"
   ]
  },
  {
   "cell_type": "code",
   "execution_count": 14,
   "id": "9257fee4",
   "metadata": {},
   "outputs": [
    {
     "data": {
      "text/html": [
       "<div>\n",
       "<style scoped>\n",
       "    .dataframe tbody tr th:only-of-type {\n",
       "        vertical-align: middle;\n",
       "    }\n",
       "\n",
       "    .dataframe tbody tr th {\n",
       "        vertical-align: top;\n",
       "    }\n",
       "\n",
       "    .dataframe thead th {\n",
       "        text-align: right;\n",
       "    }\n",
       "</style>\n",
       "<table border=\"1\" class=\"dataframe\">\n",
       "  <thead>\n",
       "    <tr style=\"text-align: right;\">\n",
       "      <th></th>\n",
       "      <th>Temperature</th>\n",
       "      <th>L</th>\n",
       "      <th>R</th>\n",
       "      <th>A_M</th>\n",
       "      <th>Color</th>\n",
       "      <th>Spectral_Class</th>\n",
       "      <th>Type</th>\n",
       "      <th>Color_cat</th>\n",
       "      <th>Spectral_Class_cat</th>\n",
       "    </tr>\n",
       "  </thead>\n",
       "  <tbody>\n",
       "    <tr>\n",
       "      <th>0</th>\n",
       "      <td>3068</td>\n",
       "      <td>0.002400</td>\n",
       "      <td>0.1700</td>\n",
       "      <td>16.12</td>\n",
       "      <td>Red</td>\n",
       "      <td>M</td>\n",
       "      <td>0</td>\n",
       "      <td>8</td>\n",
       "      <td>5</td>\n",
       "    </tr>\n",
       "    <tr>\n",
       "      <th>1</th>\n",
       "      <td>3042</td>\n",
       "      <td>0.000500</td>\n",
       "      <td>0.1542</td>\n",
       "      <td>16.60</td>\n",
       "      <td>Red</td>\n",
       "      <td>M</td>\n",
       "      <td>0</td>\n",
       "      <td>8</td>\n",
       "      <td>5</td>\n",
       "    </tr>\n",
       "    <tr>\n",
       "      <th>2</th>\n",
       "      <td>2600</td>\n",
       "      <td>0.000300</td>\n",
       "      <td>0.1020</td>\n",
       "      <td>18.70</td>\n",
       "      <td>Red</td>\n",
       "      <td>M</td>\n",
       "      <td>0</td>\n",
       "      <td>8</td>\n",
       "      <td>5</td>\n",
       "    </tr>\n",
       "    <tr>\n",
       "      <th>3</th>\n",
       "      <td>2800</td>\n",
       "      <td>0.000200</td>\n",
       "      <td>0.1600</td>\n",
       "      <td>16.65</td>\n",
       "      <td>Red</td>\n",
       "      <td>M</td>\n",
       "      <td>0</td>\n",
       "      <td>8</td>\n",
       "      <td>5</td>\n",
       "    </tr>\n",
       "    <tr>\n",
       "      <th>4</th>\n",
       "      <td>1939</td>\n",
       "      <td>0.000138</td>\n",
       "      <td>0.1030</td>\n",
       "      <td>20.06</td>\n",
       "      <td>Red</td>\n",
       "      <td>M</td>\n",
       "      <td>0</td>\n",
       "      <td>8</td>\n",
       "      <td>5</td>\n",
       "    </tr>\n",
       "  </tbody>\n",
       "</table>\n",
       "</div>"
      ],
      "text/plain": [
       "   Temperature         L       R    A_M Color Spectral_Class  Type  Color_cat  \\\n",
       "0         3068  0.002400  0.1700  16.12   Red              M     0          8   \n",
       "1         3042  0.000500  0.1542  16.60   Red              M     0          8   \n",
       "2         2600  0.000300  0.1020  18.70   Red              M     0          8   \n",
       "3         2800  0.000200  0.1600  16.65   Red              M     0          8   \n",
       "4         1939  0.000138  0.1030  20.06   Red              M     0          8   \n",
       "\n",
       "   Spectral_Class_cat  \n",
       "0                   5  \n",
       "1                   5  \n",
       "2                   5  \n",
       "3                   5  \n",
       "4                   5  "
      ]
     },
     "execution_count": 14,
     "metadata": {},
     "output_type": "execute_result"
    }
   ],
   "source": [
    "data[\"Color_cat\"] = data[\"Color\"].cat.codes\n",
    "data[\"Spectral_Class_cat\"] = data[\"Spectral_Class\"].cat.codes\n",
    "data.head()"
   ]
  },
  {
   "cell_type": "code",
   "execution_count": 15,
   "id": "66ec932d",
   "metadata": {},
   "outputs": [],
   "source": [
    "data = data.drop(columns='Color')\n",
    "data = data.drop(columns='Spectral_Class')"
   ]
  },
  {
   "cell_type": "code",
   "execution_count": 16,
   "id": "1c16f56f",
   "metadata": {},
   "outputs": [
    {
     "data": {
      "text/html": [
       "<div>\n",
       "<style scoped>\n",
       "    .dataframe tbody tr th:only-of-type {\n",
       "        vertical-align: middle;\n",
       "    }\n",
       "\n",
       "    .dataframe tbody tr th {\n",
       "        vertical-align: top;\n",
       "    }\n",
       "\n",
       "    .dataframe thead th {\n",
       "        text-align: right;\n",
       "    }\n",
       "</style>\n",
       "<table border=\"1\" class=\"dataframe\">\n",
       "  <thead>\n",
       "    <tr style=\"text-align: right;\">\n",
       "      <th></th>\n",
       "      <th>Temperature</th>\n",
       "      <th>L</th>\n",
       "      <th>R</th>\n",
       "      <th>A_M</th>\n",
       "      <th>Type</th>\n",
       "      <th>Color_cat</th>\n",
       "      <th>Spectral_Class_cat</th>\n",
       "    </tr>\n",
       "  </thead>\n",
       "  <tbody>\n",
       "    <tr>\n",
       "      <th>0</th>\n",
       "      <td>3068</td>\n",
       "      <td>0.002400</td>\n",
       "      <td>0.1700</td>\n",
       "      <td>16.12</td>\n",
       "      <td>0</td>\n",
       "      <td>8</td>\n",
       "      <td>5</td>\n",
       "    </tr>\n",
       "    <tr>\n",
       "      <th>1</th>\n",
       "      <td>3042</td>\n",
       "      <td>0.000500</td>\n",
       "      <td>0.1542</td>\n",
       "      <td>16.60</td>\n",
       "      <td>0</td>\n",
       "      <td>8</td>\n",
       "      <td>5</td>\n",
       "    </tr>\n",
       "    <tr>\n",
       "      <th>2</th>\n",
       "      <td>2600</td>\n",
       "      <td>0.000300</td>\n",
       "      <td>0.1020</td>\n",
       "      <td>18.70</td>\n",
       "      <td>0</td>\n",
       "      <td>8</td>\n",
       "      <td>5</td>\n",
       "    </tr>\n",
       "    <tr>\n",
       "      <th>3</th>\n",
       "      <td>2800</td>\n",
       "      <td>0.000200</td>\n",
       "      <td>0.1600</td>\n",
       "      <td>16.65</td>\n",
       "      <td>0</td>\n",
       "      <td>8</td>\n",
       "      <td>5</td>\n",
       "    </tr>\n",
       "    <tr>\n",
       "      <th>4</th>\n",
       "      <td>1939</td>\n",
       "      <td>0.000138</td>\n",
       "      <td>0.1030</td>\n",
       "      <td>20.06</td>\n",
       "      <td>0</td>\n",
       "      <td>8</td>\n",
       "      <td>5</td>\n",
       "    </tr>\n",
       "  </tbody>\n",
       "</table>\n",
       "</div>"
      ],
      "text/plain": [
       "   Temperature         L       R    A_M  Type  Color_cat  Spectral_Class_cat\n",
       "0         3068  0.002400  0.1700  16.12     0          8                   5\n",
       "1         3042  0.000500  0.1542  16.60     0          8                   5\n",
       "2         2600  0.000300  0.1020  18.70     0          8                   5\n",
       "3         2800  0.000200  0.1600  16.65     0          8                   5\n",
       "4         1939  0.000138  0.1030  20.06     0          8                   5"
      ]
     },
     "execution_count": 16,
     "metadata": {},
     "output_type": "execute_result"
    }
   ],
   "source": [
    "data.head()"
   ]
  },
  {
   "cell_type": "code",
   "execution_count": 17,
   "id": "6b33f55d",
   "metadata": {},
   "outputs": [
    {
     "data": {
      "text/plain": [
       "Temperature             int64\n",
       "L                     float64\n",
       "R                     float64\n",
       "A_M                   float64\n",
       "Type                    int64\n",
       "Color_cat                int8\n",
       "Spectral_Class_cat       int8\n",
       "dtype: object"
      ]
     },
     "execution_count": 17,
     "metadata": {},
     "output_type": "execute_result"
    }
   ],
   "source": [
    "data.dtypes"
   ]
  },
  {
   "cell_type": "markdown",
   "id": "1b63d444",
   "metadata": {},
   "source": [
    "### Масштабирование данных"
   ]
  },
  {
   "cell_type": "code",
   "execution_count": 18,
   "id": "5ef61f4a",
   "metadata": {},
   "outputs": [],
   "source": [
    "from sklearn.preprocessing import MinMaxScaler"
   ]
  },
  {
   "cell_type": "code",
   "execution_count": 19,
   "id": "0349832f",
   "metadata": {},
   "outputs": [
    {
     "data": {
      "text/plain": [
       "array([[2.96629095e-02, 2.73127546e-09, 8.29359490e-05, ...,\n",
       "        0.00000000e+00, 5.00000000e-01, 8.33333333e-01],\n",
       "       [2.89797956e-02, 4.94455040e-10, 7.48271124e-05, ...,\n",
       "        0.00000000e+00, 5.00000000e-01, 8.33333333e-01],\n",
       "       [1.73668585e-02, 2.59000259e-10, 4.80371586e-05, ...,\n",
       "        0.00000000e+00, 5.00000000e-01, 8.33333333e-01],\n",
       "       ...,\n",
       "       [1.81025196e-01, 6.32776483e-01, 7.30304200e-01, ...,\n",
       "        1.00000000e+00, 5.62500000e-01, 0.00000000e+00],\n",
       "       [1.91692283e-01, 4.76725295e-01, 5.70693556e-01, ...,\n",
       "        1.00000000e+00, 5.62500000e-01, 0.00000000e+00],\n",
       "       [9.44352487e-01, 3.47181606e-01, 9.15062503e-01, ...,\n",
       "        1.00000000e+00, 0.00000000e+00, 1.00000000e+00]])"
      ]
     },
     "execution_count": 19,
     "metadata": {},
     "output_type": "execute_result"
    }
   ],
   "source": [
    "sc1 = MinMaxScaler()\n",
    "sc1_data = sc1.fit_transform(data)\n",
    "sc1_data"
   ]
  },
  {
   "cell_type": "markdown",
   "id": "b675d433",
   "metadata": {},
   "source": [
    "Построим кореляционную матрицу"
   ]
  },
  {
   "cell_type": "code",
   "execution_count": 20,
   "id": "3e756478",
   "metadata": {},
   "outputs": [
    {
     "data": {
      "text/plain": [
       "<AxesSubplot:>"
      ]
     },
     "execution_count": 20,
     "metadata": {},
     "output_type": "execute_result"
    },
    {
     "data": {
      "image/png": "[encoded data removed]",
      "text/plain": [
       "<Figure size 720x360 with 2 Axes>"
      ]
     },
     "metadata": {
      "image/png": {
       "height": 394,
       "width": 643
      }
     },
     "output_type": "display_data"
    }
   ],
   "source": [
    "ig, ax = plt.subplots(figsize=(10,5))\n",
    "sns.heatmap(data.corr(method='pearson'), ax=ax, annot=True, fmt='.3f')"
   ]
  },
  {
   "cell_type": "markdown",
   "id": "5e9ff45e",
   "metadata": {},
   "source": [
    "### Предсказание целевого признака"
   ]
  },
  {
   "cell_type": "markdown",
   "id": "2d262a6b",
   "metadata": {},
   "source": [
    "Предскажем значение целевого признака L."
   ]
  },
  {
   "cell_type": "markdown",
   "id": "01c698a9",
   "metadata": {},
   "source": [
    "##### Разделение выборки на обучающую и тестовую"
   ]
  },
  {
   "cell_type": "code",
   "execution_count": 21,
   "id": "de8f4217",
   "metadata": {},
   "outputs": [],
   "source": [
    "X = data.drop(columns='L')\n",
    "Y = data['L']"
   ]
  },
  {
   "cell_type": "markdown",
   "id": "33042149",
   "metadata": {},
   "source": [
    "Входные данные:"
   ]
  },
  {
   "cell_type": "code",
   "execution_count": 22,
   "id": "2795d865",
   "metadata": {},
   "outputs": [
    {
     "data": {
      "text/html": [
       "<div>\n",
       "<style scoped>\n",
       "    .dataframe tbody tr th:only-of-type {\n",
       "        vertical-align: middle;\n",
       "    }\n",
       "\n",
       "    .dataframe tbody tr th {\n",
       "        vertical-align: top;\n",
       "    }\n",
       "\n",
       "    .dataframe thead th {\n",
       "        text-align: right;\n",
       "    }\n",
       "</style>\n",
       "<table border=\"1\" class=\"dataframe\">\n",
       "  <thead>\n",
       "    <tr style=\"text-align: right;\">\n",
       "      <th></th>\n",
       "      <th>Temperature</th>\n",
       "      <th>R</th>\n",
       "      <th>A_M</th>\n",
       "      <th>Type</th>\n",
       "      <th>Color_cat</th>\n",
       "      <th>Spectral_Class_cat</th>\n",
       "    </tr>\n",
       "  </thead>\n",
       "  <tbody>\n",
       "    <tr>\n",
       "      <th>0</th>\n",
       "      <td>3068</td>\n",
       "      <td>0.1700</td>\n",
       "      <td>16.12</td>\n",
       "      <td>0</td>\n",
       "      <td>8</td>\n",
       "      <td>5</td>\n",
       "    </tr>\n",
       "    <tr>\n",
       "      <th>1</th>\n",
       "      <td>3042</td>\n",
       "      <td>0.1542</td>\n",
       "      <td>16.60</td>\n",
       "      <td>0</td>\n",
       "      <td>8</td>\n",
       "      <td>5</td>\n",
       "    </tr>\n",
       "    <tr>\n",
       "      <th>2</th>\n",
       "      <td>2600</td>\n",
       "      <td>0.1020</td>\n",
       "      <td>18.70</td>\n",
       "      <td>0</td>\n",
       "      <td>8</td>\n",
       "      <td>5</td>\n",
       "    </tr>\n",
       "    <tr>\n",
       "      <th>3</th>\n",
       "      <td>2800</td>\n",
       "      <td>0.1600</td>\n",
       "      <td>16.65</td>\n",
       "      <td>0</td>\n",
       "      <td>8</td>\n",
       "      <td>5</td>\n",
       "    </tr>\n",
       "    <tr>\n",
       "      <th>4</th>\n",
       "      <td>1939</td>\n",
       "      <td>0.1030</td>\n",
       "      <td>20.06</td>\n",
       "      <td>0</td>\n",
       "      <td>8</td>\n",
       "      <td>5</td>\n",
       "    </tr>\n",
       "  </tbody>\n",
       "</table>\n",
       "</div>"
      ],
      "text/plain": [
       "   Temperature       R    A_M  Type  Color_cat  Spectral_Class_cat\n",
       "0         3068  0.1700  16.12     0          8                   5\n",
       "1         3042  0.1542  16.60     0          8                   5\n",
       "2         2600  0.1020  18.70     0          8                   5\n",
       "3         2800  0.1600  16.65     0          8                   5\n",
       "4         1939  0.1030  20.06     0          8                   5"
      ]
     },
     "execution_count": 22,
     "metadata": {},
     "output_type": "execute_result"
    }
   ],
   "source": [
    "X.head()"
   ]
  },
  {
   "cell_type": "markdown",
   "id": "a0db1b71",
   "metadata": {},
   "source": [
    "Выходные данные:"
   ]
  },
  {
   "cell_type": "code",
   "execution_count": 23,
   "id": "9a2dff8a",
   "metadata": {},
   "outputs": [
    {
     "data": {
      "text/plain": [
       "0    0.002400\n",
       "1    0.000500\n",
       "2    0.000300\n",
       "3    0.000200\n",
       "4    0.000138\n",
       "Name: L, dtype: float64"
      ]
     },
     "execution_count": 23,
     "metadata": {},
     "output_type": "execute_result"
    }
   ],
   "source": [
    "Y.head()"
   ]
  },
  {
   "cell_type": "code",
   "execution_count": 24,
   "id": "377b4530",
   "metadata": {},
   "outputs": [],
   "source": [
    "X_train,  X_test,  Y_train,  Y_test = train_test_split(X,  Y, random_state = 2023, test_size = 0.1)"
   ]
  },
  {
   "cell_type": "markdown",
   "id": "45f4e44c",
   "metadata": {},
   "source": [
    "Входные параметры обучающей выборки"
   ]
  },
  {
   "cell_type": "code",
   "execution_count": 25,
   "id": "8f62fa77",
   "metadata": {},
   "outputs": [
    {
     "data": {
      "text/html": [
       "<div>\n",
       "<style scoped>\n",
       "    .dataframe tbody tr th:only-of-type {\n",
       "        vertical-align: middle;\n",
       "    }\n",
       "\n",
       "    .dataframe tbody tr th {\n",
       "        vertical-align: top;\n",
       "    }\n",
       "\n",
       "    .dataframe thead th {\n",
       "        text-align: right;\n",
       "    }\n",
       "</style>\n",
       "<table border=\"1\" class=\"dataframe\">\n",
       "  <thead>\n",
       "    <tr style=\"text-align: right;\">\n",
       "      <th></th>\n",
       "      <th>Temperature</th>\n",
       "      <th>R</th>\n",
       "      <th>A_M</th>\n",
       "      <th>Type</th>\n",
       "      <th>Color_cat</th>\n",
       "      <th>Spectral_Class_cat</th>\n",
       "    </tr>\n",
       "  </thead>\n",
       "  <tbody>\n",
       "    <tr>\n",
       "      <th>192</th>\n",
       "      <td>2994</td>\n",
       "      <td>0.28000</td>\n",
       "      <td>13.45</td>\n",
       "      <td>1</td>\n",
       "      <td>8</td>\n",
       "      <td>5</td>\n",
       "    </tr>\n",
       "    <tr>\n",
       "      <th>123</th>\n",
       "      <td>3146</td>\n",
       "      <td>0.09320</td>\n",
       "      <td>16.92</td>\n",
       "      <td>0</td>\n",
       "      <td>8</td>\n",
       "      <td>5</td>\n",
       "    </tr>\n",
       "    <tr>\n",
       "      <th>140</th>\n",
       "      <td>13420</td>\n",
       "      <td>0.00981</td>\n",
       "      <td>13.67</td>\n",
       "      <td>2</td>\n",
       "      <td>1</td>\n",
       "      <td>1</td>\n",
       "    </tr>\n",
       "    <tr>\n",
       "      <th>8</th>\n",
       "      <td>2650</td>\n",
       "      <td>0.11000</td>\n",
       "      <td>17.45</td>\n",
       "      <td>0</td>\n",
       "      <td>8</td>\n",
       "      <td>5</td>\n",
       "    </tr>\n",
       "    <tr>\n",
       "      <th>30</th>\n",
       "      <td>39000</td>\n",
       "      <td>10.60000</td>\n",
       "      <td>-4.70</td>\n",
       "      <td>3</td>\n",
       "      <td>0</td>\n",
       "      <td>6</td>\n",
       "    </tr>\n",
       "  </tbody>\n",
       "</table>\n",
       "</div>"
      ],
      "text/plain": [
       "     Temperature         R    A_M  Type  Color_cat  Spectral_Class_cat\n",
       "192         2994   0.28000  13.45     1          8                   5\n",
       "123         3146   0.09320  16.92     0          8                   5\n",
       "140        13420   0.00981  13.67     2          1                   1\n",
       "8           2650   0.11000  17.45     0          8                   5\n",
       "30         39000  10.60000  -4.70     3          0                   6"
      ]
     },
     "execution_count": 25,
     "metadata": {},
     "output_type": "execute_result"
    }
   ],
   "source": [
    "X_train.head()"
   ]
  },
  {
   "cell_type": "markdown",
   "id": "6529ce83",
   "metadata": {},
   "source": [
    "Выходные параметры обучающей выборки"
   ]
  },
  {
   "cell_type": "code",
   "execution_count": 26,
   "id": "880ee972",
   "metadata": {},
   "outputs": [
    {
     "data": {
      "text/plain": [
       "192         0.00720\n",
       "123         0.00015\n",
       "140         0.00059\n",
       "8           0.00069\n",
       "30     204000.00000\n",
       "Name: L, dtype: float64"
      ]
     },
     "execution_count": 26,
     "metadata": {},
     "output_type": "execute_result"
    }
   ],
   "source": [
    "Y_train.head()"
   ]
  },
  {
   "cell_type": "markdown",
   "id": "4dd2ba0a",
   "metadata": {},
   "source": [
    "Выходные параметры тестовой выборки"
   ]
  },
  {
   "cell_type": "code",
   "execution_count": 27,
   "id": "42529fda",
   "metadata": {},
   "outputs": [
    {
     "data": {
      "text/plain": [
       "42     150000.000000\n",
       "205         0.001560\n",
       "4           0.000138\n",
       "120         0.000430\n",
       "74          0.004000\n",
       "Name: L, dtype: float64"
      ]
     },
     "execution_count": 27,
     "metadata": {},
     "output_type": "execute_result"
    }
   ],
   "source": [
    "Y_test.head()"
   ]
  },
  {
   "cell_type": "markdown",
   "id": "902ccf6e",
   "metadata": {},
   "source": [
    "### Линейная регрессия"
   ]
  },
  {
   "cell_type": "markdown",
   "id": "8b859c53",
   "metadata": {},
   "source": [
    "Метрики:  \n",
    "MSE - подчеркнуть большие ошибки  \n",
    "Median Absolute Error - оценить качество модели с устойчивостью к выбросам  \n",
    "R2 - точно и наглядно интерпретировать качество модели  "
   ]
  },
  {
   "cell_type": "code",
   "execution_count": 28,
   "id": "d30d247d",
   "metadata": {},
   "outputs": [],
   "source": [
    "reg = LinearRegression().fit(X_train, Y_train)"
   ]
  },
  {
   "cell_type": "code",
   "execution_count": 29,
   "id": "d1821c9c",
   "metadata": {
    "scrolled": true
   },
   "outputs": [
    {
     "data": {
      "text/plain": [
       "(13495193454.334732, 3325123742.294554)"
      ]
     },
     "execution_count": 29,
     "metadata": {},
     "output_type": "execute_result"
    }
   ],
   "source": [
    "y_pred_test_reg = reg.predict(X_test)\n",
    "y_pred_train_reg = reg.predict(X_train)\n",
    "mse_reg = mean_squared_error(Y_train, y_pred_train_reg), mean_squared_error(Y_test, y_pred_test_reg)\n",
    "mse_reg"
   ]
  },
  {
   "cell_type": "code",
   "execution_count": 30,
   "id": "8fcdb892",
   "metadata": {},
   "outputs": [
    {
     "data": {
      "text/plain": [
       "(36697.58446980551, 35483.77026547531)"
      ]
     },
     "execution_count": 30,
     "metadata": {},
     "output_type": "execute_result"
    }
   ],
   "source": [
    "med_reg = median_absolute_error(Y_train, y_pred_train_reg), median_absolute_error(Y_test, y_pred_test_reg)\n",
    "med_reg"
   ]
  },
  {
   "cell_type": "code",
   "execution_count": 31,
   "id": "646ebbd8",
   "metadata": {},
   "outputs": [
    {
     "data": {
      "text/plain": [
       "(0.6052590715631364, 0.6474841820679058)"
      ]
     },
     "execution_count": 31,
     "metadata": {},
     "output_type": "execute_result"
    }
   ],
   "source": [
    "r2_reg = r2_score(Y_train, y_pred_train_reg), r2_score(Y_test, y_pred_test_reg)\n",
    "r2_reg"
   ]
  },
  {
   "cell_type": "markdown",
   "id": "c02f25b3",
   "metadata": {},
   "source": [
    "### Случайный лес"
   ]
  },
  {
   "cell_type": "code",
   "execution_count": 32,
   "id": "35d7f0b2",
   "metadata": {
    "scrolled": true
   },
   "outputs": [
    {
     "name": "stderr",
     "output_type": "stream",
     "text": [
      "C:\\Users\\Majer\\anaconda3\\lib\\site-packages\\sklearn\\ensemble\\_forest.py:833: UserWarning: Some inputs do not have OOB scores. This probably means too few trees were used to compute any reliable oob estimates.\n",
      "  warn(\"Some inputs do not have OOB scores. \"\n"
     ]
    }
   ],
   "source": [
    "rf = RandomForestRegressor(n_estimators=5, oob_score=True, random_state=1).fit(X_train, Y_train)"
   ]
  },
  {
   "cell_type": "code",
   "execution_count": 33,
   "id": "2c95d660",
   "metadata": {},
   "outputs": [
    {
     "data": {
      "text/plain": [
       "(0.362018121029148, 0.637981878970852)"
      ]
     },
     "execution_count": 33,
     "metadata": {},
     "output_type": "execute_result"
    }
   ],
   "source": [
    "# Out-of-bag error\n",
    "rf.oob_score_, 1-rf.oob_score_"
   ]
  },
  {
   "cell_type": "code",
   "execution_count": 34,
   "id": "1354c92c",
   "metadata": {},
   "outputs": [
    {
     "data": {
      "text/plain": [
       "(3062614212.8272805, 10915695442.398323)"
      ]
     },
     "execution_count": 34,
     "metadata": {},
     "output_type": "execute_result"
    }
   ],
   "source": [
    "y_pred_test_rf = rf.predict(X_test)\n",
    "y_pred_train_rf = rf.predict(X_train)\n",
    "mse_rf = mean_squared_error(Y_train, y_pred_train_rf), mean_squared_error(Y_test, y_pred_test_rf)\n",
    "mse_rf"
   ]
  },
  {
   "cell_type": "code",
   "execution_count": 35,
   "id": "4fdfb6c9",
   "metadata": {},
   "outputs": [
    {
     "data": {
      "text/plain": [
       "(0.00253, 0.0019330000000000003)"
      ]
     },
     "execution_count": 35,
     "metadata": {},
     "output_type": "execute_result"
    }
   ],
   "source": [
    "med_rf = median_absolute_error(Y_train, y_pred_train_rf), median_absolute_error(Y_test, y_pred_test_rf)\n",
    "med_rf"
   ]
  },
  {
   "cell_type": "code",
   "execution_count": 36,
   "id": "76b3c2da",
   "metadata": {
    "scrolled": true
   },
   "outputs": [
    {
     "data": {
      "text/plain": [
       "(0.910417054641995, -0.1572367242246857)"
      ]
     },
     "execution_count": 36,
     "metadata": {},
     "output_type": "execute_result"
    }
   ],
   "source": [
    "r2_rf = r2_score(Y_train, y_pred_train_rf), r2_score(Y_test, y_pred_test_rf)\n",
    "r2_rf"
   ]
  },
  {
   "cell_type": "markdown",
   "id": "9a9240a3",
   "metadata": {},
   "source": [
    "### Сравнение моделей"
   ]
  },
  {
   "cell_type": "code",
   "execution_count": 37,
   "id": "54e0d23c",
   "metadata": {
    "scrolled": true
   },
   "outputs": [
    {
     "name": "stdout",
     "output_type": "stream",
     "text": [
      "MSE\n",
      "LinearRegression:  (13495193454.334732, 3325123742.294554)\n",
      "RandomForest:      (3062614212.8272805, 10915695442.398323)\n"
     ]
    }
   ],
   "source": [
    "print('MSE')\n",
    "print('LinearRegression: ', mse_reg)\n",
    "print('RandomForest:     ', mse_rf)"
   ]
  },
  {
   "cell_type": "code",
   "execution_count": 38,
   "id": "fcb0eb19",
   "metadata": {},
   "outputs": [
    {
     "name": "stdout",
     "output_type": "stream",
     "text": [
      "MedAE\n",
      "LinearRegression:  (36697.58446980551, 35483.77026547531)\n",
      "RandomForest:      (0.00253, 0.0019330000000000003)\n"
     ]
    }
   ],
   "source": [
    "print('MedAE')\n",
    "print('LinearRegression: ', med_reg)\n",
    "print('RandomForest:     ', med_rf)"
   ]
  },
  {
   "cell_type": "code",
   "execution_count": 39,
   "id": "6e7131b9",
   "metadata": {},
   "outputs": [
    {
     "name": "stdout",
     "output_type": "stream",
     "text": [
      "R2\n",
      "LinearRegression:  (0.6052590715631364, 0.6474841820679058)\n",
      "RandomForest:      (0.910417054641995, -0.1572367242246857)\n"
     ]
    }
   ],
   "source": [
    "print('R2')\n",
    "print('LinearRegression: ', r2_reg)\n",
    "print('RandomForest:     ', r2_rf)"
   ]
  },
  {
   "cell_type": "markdown",
   "id": "4af524e7",
   "metadata": {},
   "source": [
    "## Вывод:\n",
    "По результатам сравнения качества двух моделей на основе трех метрик - MSE, MedAE и R2, можно сделать вывод о том, что модель RandomForest показывает более высокое качество, чем модель LinearRegression. Это говорит о более высокой эффективности RandomForest в прогнозировании. \n",
    "Метрика R2, которая показывает, насколько хорошо модель соответствует данным, также подтверждает более высокое качество модели RandomForest.  "
   ]
  }
 ],
 "metadata": {
  "kernelspec": {
   "display_name": "Python 3",
   "language": "python",
   "name": "python3"
  },
  "language_info": {
   "codemirror_mode": {
    "name": "ipython",
    "version": 3
   },
   "file_extension": ".py",
   "mimetype": "text/x-python",
   "name": "python",
   "nbconvert_exporter": "python",
   "pygments_lexer": "ipython3",
   "version": "3.8.8"
  }
 },
 "nbformat": 4,
 "nbformat_minor": 5
}
